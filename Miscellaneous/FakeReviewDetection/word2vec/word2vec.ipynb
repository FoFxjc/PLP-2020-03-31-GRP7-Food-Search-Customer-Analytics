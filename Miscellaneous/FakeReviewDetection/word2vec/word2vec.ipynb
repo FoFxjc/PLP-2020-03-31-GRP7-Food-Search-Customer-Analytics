{
 "cells": [
  {
   "cell_type": "code",
   "execution_count": 1,
   "metadata": {
    "colab": {
     "base_uri": "https://localhost:8080/",
     "height": 51
    },
    "colab_type": "code",
    "executionInfo": {
     "elapsed": 2237,
     "status": "ok",
     "timestamp": 1582884123418,
     "user": {
      "displayName": "徐嘉辰",
      "photoUrl": "",
      "userId": "11388557345669522697"
     },
     "user_tz": -480
    },
    "id": "DCduLPAvL3pg",
    "outputId": "5288291a-7616-4867-a846-af3e99ecd3fd"
   },
   "outputs": [
    {
     "name": "stderr",
     "output_type": "stream",
     "text": [
      "[nltk_data] Downloading package punkt to /Users/jiachenx/nltk_data...\n",
      "[nltk_data]   Package punkt is already up-to-date!\n"
     ]
    }
   ],
   "source": [
    "import os\n",
    "from argparse import Namespace\n",
    "import copy\n",
    "import gensim\n",
    "from gensim.models import Word2Vec\n",
    "import json\n",
    "import nltk; nltk.download('punkt')\n",
    "import numpy as np\n",
    "import pandas as pd\n",
    "import re\n",
    "import urllib"
   ]
  },
  {
   "cell_type": "code",
   "execution_count": 2,
   "metadata": {
    "colab": {},
    "colab_type": "code",
    "id": "KYNUwP8iL3pm"
   },
   "outputs": [],
   "source": [
    "args = Namespace(\n",
    "    seed=1234,\n",
    "    data_file=\"restautant_review_corpus.csv\",\n",
    "    embedding_dim=100,\n",
    "    window=3,\n",
    "    min_count=2,\n",
    "    skip_gram=0,\n",
    "    negative_sampling=20,\n",
    ")"
   ]
  },
  {
   "cell_type": "code",
   "execution_count": 3,
   "metadata": {
    "colab": {
     "base_uri": "https://localhost:8080/",
     "height": 88
    },
    "colab_type": "code",
    "executionInfo": {
     "elapsed": 963,
     "status": "ok",
     "timestamp": 1582884135150,
     "user": {
      "displayName": "徐嘉辰",
      "photoUrl": "",
      "userId": "11388557345669522697"
     },
     "user_tz": -480
    },
    "id": "nAWKW1nsL3pq",
    "outputId": "bb3dc55f-e453-4021-8c91-639a1a4c6f8f"
   },
   "outputs": [
    {
     "name": "stdout",
     "output_type": "stream",
     "text": [
      "26956\n",
      "Today marks one year since my dinner at Alinea. It was the finest dining experience of my life and it lived up to all of my lofty expectations. In hindsight, it is not the culinary party tricks or the use of technology that still lingers in the forefront of my mind (although each innovative technique employed delighted me and served to advance each dish). My memories fall back on the bright, harmonious flavors and the impeccable (at at times, playful) service. To borrow from Michelin's own rubric, Alinea provided me \"exceptional cuisine, worth a special journey.\" So much so that I I cannot imagine another trip to Chicago without partaking of what ever joys that Achatz may have in store.\n",
      "<class 'list'>\n"
     ]
    }
   ],
   "source": [
    "corpus_df = pd.read_csv(args.data_file)\n",
    "\n",
    "corpus_df.drop(index=np.where(pd.isnull(corpus_df))[0], axis=0, inplace=True)\n",
    "\n",
    "train_data_list = corpus_df['reviewContent'].to_list()\n",
    "print (len(train_data_list))\n",
    "print (train_data_list[11])\n",
    "print(type(train_data_list))"
   ]
  },
  {
   "cell_type": "code",
   "execution_count": 4,
   "metadata": {
    "colab": {},
    "colab_type": "code",
    "id": "-GYvyiPfL3pv"
   },
   "outputs": [],
   "source": [
    "# Preprocessing\n",
    "def preprocess_text(text):\n",
    "    text = ' '.join(word.lower() for word in text.split(\" \"))\n",
    "    text = re.sub(r\"([.,!?])\", r\" \\1 \", text)\n",
    "    text = re.sub(r\"[^a-zA-Z.,!?]+\", r\" \", text)\n",
    "    text = text.strip()\n",
    "    return text"
   ]
  },
  {
   "cell_type": "code",
   "execution_count": 5,
   "metadata": {
    "colab": {
     "base_uri": "https://localhost:8080/",
     "height": 54
    },
    "colab_type": "code",
    "executionInfo": {
     "elapsed": 1654,
     "status": "ok",
     "timestamp": 1582884139585,
     "user": {
      "displayName": "徐嘉辰",
      "photoUrl": "",
      "userId": "11388557345669522697"
     },
     "user_tz": -480
    },
    "id": "5QgukTFwL3pz",
    "outputId": "eb09be33-9e3b-472f-c24f-e5fae8ee9af5"
   },
   "outputs": [
    {
     "name": "stdout",
     "output_type": "stream",
     "text": [
      "today marks one year since my dinner at alinea . it was the finest dining experience of my life and it lived up to all of my lofty expectations . in hindsight , it is not the culinary party tricks or the use of technology that still lingers in the forefront of my mind although each innovative technique employed delighted me and served to advance each dish . my memories fall back on the bright , harmonious flavors and the impeccable at at times , playful service . to borrow from michelin s own rubric , alinea provided me exceptional cuisine , worth a special journey . so much so that i i cannot imagine another trip to chicago without partaking of what ever joys that achatz may have in store .\n"
     ]
    }
   ],
   "source": [
    "# Clean sentences\n",
    "sentences = [preprocess_text(sentence) for sentence in train_data_list]\n",
    "print (sentences[11])"
   ]
  },
  {
   "cell_type": "code",
   "execution_count": 6,
   "metadata": {
    "colab": {
     "base_uri": "https://localhost:8080/",
     "height": 54
    },
    "colab_type": "code",
    "executionInfo": {
     "elapsed": 981,
     "status": "ok",
     "timestamp": 1582884139586,
     "user": {
      "displayName": "徐嘉辰",
      "photoUrl": "",
      "userId": "11388557345669522697"
     },
     "user_tz": -480
    },
    "id": "DvQniqb2L3p4",
    "outputId": "37f2b95f-5bee-4d91-c119-c3e4541d382a"
   },
   "outputs": [
    {
     "name": "stdout",
     "output_type": "stream",
     "text": [
      "['today', 'marks', 'one', 'year', 'since', 'my', 'dinner', 'at', 'alinea', '.', 'it', 'was', 'the', 'finest', 'dining', 'experience', 'of', 'my', 'life', 'and', 'it', 'lived', 'up', 'to', 'all', 'of', 'my', 'lofty', 'expectations', '.', 'in', 'hindsight', ',', 'it', 'is', 'not', 'the', 'culinary', 'party', 'tricks', 'or', 'the', 'use', 'of', 'technology', 'that', 'still', 'lingers', 'in', 'the', 'forefront', 'of', 'my', 'mind', 'although', 'each', 'innovative', 'technique', 'employed', 'delighted', 'me', 'and', 'served', 'to', 'advance', 'each', 'dish', '.', 'my', 'memories', 'fall', 'back', 'on', 'the', 'bright', ',', 'harmonious', 'flavors', 'and', 'the', 'impeccable', 'at', 'at', 'times', ',', 'playful', 'service', '.', 'to', 'borrow', 'from', 'michelin', 's', 'own', 'rubric', ',', 'alinea', 'provided', 'me', 'exceptional', 'cuisine', ',', 'worth', 'a', 'special', 'journey', '.', 'so', 'much', 'so', 'that', 'i', 'i', 'cannot', 'imagine', 'another', 'trip', 'to', 'chicago', 'without', 'partaking', 'of', 'what', 'ever', 'joys', 'that', 'achatz', 'may', 'have', 'in', 'store', '.']\n"
     ]
    }
   ],
   "source": [
    "# Process sentences for gensim\n",
    "sentences = [sentence.split(\" \") for sentence in sentences]\n",
    "print (sentences[11])"
   ]
  },
  {
   "cell_type": "code",
   "execution_count": 7,
   "metadata": {
    "colab": {
     "base_uri": "https://localhost:8080/",
     "height": 204
    },
    "colab_type": "code",
    "executionInfo": {
     "elapsed": 1159,
     "status": "ok",
     "timestamp": 1582884151764,
     "user": {
      "displayName": "徐嘉辰",
      "photoUrl": "",
      "userId": "11388557345669522697"
     },
     "user_tz": -480
    },
    "id": "YKJRmMdkL3p8",
    "outputId": "ef63c328-6fd4-4db6-aee2-40fb59b94de6"
   },
   "outputs": [
    {
     "data": {
      "text/plain": [
       "['it',\n",
       " 'doesnt',\n",
       " 'get',\n",
       " 'much',\n",
       " 'nicer',\n",
       " 'then',\n",
       " 'this',\n",
       " ',',\n",
       " 'i',\n",
       " 'hope',\n",
       " 'i',\n",
       " 'can',\n",
       " 'actually',\n",
       " 'afford',\n",
       " 'to',\n",
       " 'shop',\n",
       " 'there',\n",
       " 'at',\n",
       " 'some',\n",
       " 'point',\n",
       " 'in',\n",
       " 'my',\n",
       " 'life',\n",
       " ',',\n",
       " 'they',\n",
       " 'have',\n",
       " 'an',\n",
       " 'amazing',\n",
       " 'selection',\n",
       " '.',\n",
       " 'the',\n",
       " 'prepared',\n",
       " 'food',\n",
       " 'from',\n",
       " 'the',\n",
       " 'counter',\n",
       " 'is',\n",
       " 'of',\n",
       " 'the',\n",
       " 'highest',\n",
       " 'quality',\n",
       " ',',\n",
       " 'and',\n",
       " 'the',\n",
       " 'cafe',\n",
       " 'is',\n",
       " 'damn',\n",
       " 'good',\n",
       " 'too',\n",
       " '.',\n",
       " '.',\n",
       " '.',\n",
       " 'they',\n",
       " 'even',\n",
       " 'carry',\n",
       " 'kobe',\n",
       " 'beef',\n",
       " ',',\n",
       " 'ive',\n",
       " 'never',\n",
       " 'even',\n",
       " 'seen',\n",
       " 'it',\n",
       " 'in',\n",
       " 'person',\n",
       " 'before',\n",
       " 'and',\n",
       " 'i',\n",
       " 'am',\n",
       " 'in',\n",
       " 'culinary',\n",
       " 'school',\n",
       " '!',\n",
       " '!',\n",
       " '!']"
      ]
     },
     "execution_count": 7,
     "metadata": {},
     "output_type": "execute_result"
    }
   ],
   "source": [
    "(sentences[9000])"
   ]
  },
  {
   "cell_type": "code",
   "execution_count": 8,
   "metadata": {
    "colab": {
     "base_uri": "https://localhost:8080/",
     "height": 34
    },
    "colab_type": "code",
    "executionInfo": {
     "elapsed": 65158,
     "status": "ok",
     "timestamp": 1582884217440,
     "user": {
      "displayName": "徐嘉辰",
      "photoUrl": "",
      "userId": "11388557345669522697"
     },
     "user_tz": -480
    },
    "id": "Kb-ABbaTL3qB",
    "outputId": "3038e3b7-2147-4027-9ed7-6f30a0de44cb"
   },
   "outputs": [
    {
     "name": "stdout",
     "output_type": "stream",
     "text": [
      "Word2Vec(vocab=22523, size=100, alpha=0.025)\n"
     ]
    }
   ],
   "source": [
    "# Train Word2Vec model with sentences\n",
    "model = Word2Vec(sentences=sentences, size=args.embedding_dim, \n",
    "                 window=args.window, min_count=args.min_count, \n",
    "                 sg=args.skip_gram, negative=args.negative_sampling)\n",
    "print (model)"
   ]
  },
  {
   "cell_type": "code",
   "execution_count": 9,
   "metadata": {
    "colab": {
     "base_uri": "https://localhost:8080/",
     "height": 156
    },
    "colab_type": "code",
    "executionInfo": {
     "elapsed": 57237,
     "status": "ok",
     "timestamp": 1582884217440,
     "user": {
      "displayName": "徐嘉辰",
      "photoUrl": "",
      "userId": "11388557345669522697"
     },
     "user_tz": -480
    },
    "id": "UaeU_0yvL3qF",
    "outputId": "02047fd4-82e0-48d7-ca1b-0c8e21adb821"
   },
   "outputs": [
    {
     "data": {
      "text/plain": [
       "[('ve', 0.7855691909790039),\n",
       " ('ive', 0.6333054304122925),\n",
       " ('havent', 0.5213067531585693),\n",
       " ('haven', 0.5129066705703735),\n",
       " ('having', 0.4656580686569214)]"
      ]
     },
     "execution_count": 9,
     "metadata": {},
     "output_type": "execute_result"
    }
   ],
   "source": [
    "model.wv.most_similar(positive=\"have\", topn=5)"
   ]
  },
  {
   "cell_type": "code",
   "execution_count": 10,
   "metadata": {
    "colab": {
     "base_uri": "https://localhost:8080/",
     "height": 71
    },
    "colab_type": "code",
    "executionInfo": {
     "elapsed": 56098,
     "status": "ok",
     "timestamp": 1582884217441,
     "user": {
      "displayName": "徐嘉辰",
      "photoUrl": "",
      "userId": "11388557345669522697"
     },
     "user_tz": -480
    },
    "id": "8NLaLnXhL3qK",
    "outputId": "58c84e28-98c2-4131-e0ee-c0bc46f74990"
   },
   "outputs": [],
   "source": [
    "model.save('plp.w2v.model')"
   ]
  },
  {
   "cell_type": "code",
   "execution_count": 0,
   "metadata": {
    "colab": {},
    "colab_type": "code",
    "id": "vY09acBlL3qN"
   },
   "outputs": [],
   "source": []
  }
 ],
 "metadata": {
  "colab": {
   "collapsed_sections": [],
   "name": "word2vec.ipynb",
   "provenance": [],
   "toc_visible": true
  },
  "kernelspec": {
   "display_name": "Python 3",
   "language": "python",
   "name": "python3"
  },
  "language_info": {
   "codemirror_mode": {
    "name": "ipython",
    "version": 3
   },
   "file_extension": ".py",
   "mimetype": "text/x-python",
   "name": "python",
   "nbconvert_exporter": "python",
   "pygments_lexer": "ipython3",
   "version": "3.6.10"
  }
 },
 "nbformat": 4,
 "nbformat_minor": 1
}
